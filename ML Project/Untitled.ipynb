{
 "cells": [
  {
   "cell_type": "code",
   "execution_count": 2,
   "id": "287e2543",
   "metadata": {},
   "outputs": [
    {
     "name": "stdout",
     "output_type": "stream",
     "text": [
      "Collecting streamlit\n",
      "  Downloading streamlit-1.15.1-py2.py3-none-any.whl (10.3 MB)\n",
      "\u001b[2K     \u001b[90m━━━━━━━━━━━━━━━━━━━━━━━━━━━━━━━━━━━━━━━━\u001b[0m \u001b[32m10.3/10.3 MB\u001b[0m \u001b[31m8.4 MB/s\u001b[0m eta \u001b[36m0:00:00\u001b[0m00:01\u001b[0m0:01\u001b[0m\n",
      "\u001b[?25hCollecting cachetools>=4.0\n",
      "  Downloading cachetools-5.2.0-py3-none-any.whl (9.3 kB)\n",
      "Requirement already satisfied: typing-extensions>=3.10.0.0 in /Users/sarthakshrivastava/opt/anaconda3/lib/python3.9/site-packages (from streamlit) (4.3.0)\n",
      "Requirement already satisfied: click>=7.0 in /Users/sarthakshrivastava/opt/anaconda3/lib/python3.9/site-packages (from streamlit) (8.0.4)\n",
      "Requirement already satisfied: importlib-metadata>=1.4 in /Users/sarthakshrivastava/opt/anaconda3/lib/python3.9/site-packages (from streamlit) (4.11.3)\n",
      "Collecting rich>=10.11.0\n",
      "  Downloading rich-12.6.0-py3-none-any.whl (237 kB)\n",
      "\u001b[2K     \u001b[90m━━━━━━━━━━━━━━━━━━━━━━━━━━━━━━━━━━━━━━━\u001b[0m \u001b[32m237.5/237.5 kB\u001b[0m \u001b[31m4.7 MB/s\u001b[0m eta \u001b[36m0:00:00\u001b[0m00:01\u001b[0m\n",
      "\u001b[?25hCollecting pydeck>=0.1.dev5\n",
      "  Downloading pydeck-0.8.0-py2.py3-none-any.whl (4.7 MB)\n",
      "\u001b[2K     \u001b[90m━━━━━━━━━━━━━━━━━━━━━━━━━━━━━━━━━━━━━━━━\u001b[0m \u001b[32m4.7/4.7 MB\u001b[0m \u001b[31m8.3 MB/s\u001b[0m eta \u001b[36m0:00:00\u001b[0m00:01\u001b[0m00:01\u001b[0mm\n",
      "\u001b[?25hCollecting semver\n",
      "  Downloading semver-2.13.0-py2.py3-none-any.whl (12 kB)\n",
      "Collecting altair>=3.2.0\n",
      "  Downloading altair-4.2.0-py3-none-any.whl (812 kB)\n",
      "\u001b[2K     \u001b[90m━━━━━━━━━━━━━━━━━━━━━━━━━━━━━━━━━━━━━━━\u001b[0m \u001b[32m812.8/812.8 kB\u001b[0m \u001b[31m7.9 MB/s\u001b[0m eta \u001b[36m0:00:00\u001b[0ma \u001b[36m0:00:01\u001b[0m\n",
      "\u001b[?25hRequirement already satisfied: numpy in /Users/sarthakshrivastava/opt/anaconda3/lib/python3.9/site-packages (from streamlit) (1.21.5)\n",
      "Collecting gitpython!=3.1.19\n",
      "  Downloading GitPython-3.1.29-py3-none-any.whl (182 kB)\n",
      "\u001b[2K     \u001b[90m━━━━━━━━━━━━━━━━━━━━━━━━━━━━━━━━━━━━━━━\u001b[0m \u001b[32m182.5/182.5 kB\u001b[0m \u001b[31m6.0 MB/s\u001b[0m eta \u001b[36m0:00:00\u001b[0m\n",
      "\u001b[?25hCollecting blinker>=1.0.0\n",
      "  Downloading blinker-1.5-py2.py3-none-any.whl (12 kB)\n",
      "Collecting pyarrow>=4.0\n",
      "  Downloading pyarrow-10.0.0-cp39-cp39-macosx_10_14_x86_64.whl (24.7 MB)\n",
      "\u001b[2K     \u001b[90m━━━━━━━━━━━━━━━━━━━━━━━━━━━━━━━━━━━━━━━━\u001b[0m \u001b[32m24.7/24.7 MB\u001b[0m \u001b[31m8.0 MB/s\u001b[0m eta \u001b[36m0:00:00\u001b[0m00:01\u001b[0m00:01\u001b[0m\n",
      "\u001b[?25hCollecting pympler>=0.9\n",
      "  Downloading Pympler-1.0.1-py3-none-any.whl (164 kB)\n",
      "\u001b[2K     \u001b[90m━━━━━━━━━━━━━━━━━━━━━━━━━━━━━━━━━━━━━━━\u001b[0m \u001b[32m164.8/164.8 kB\u001b[0m \u001b[31m4.0 MB/s\u001b[0m eta \u001b[36m0:00:00\u001b[0m00:01\u001b[0m\n",
      "\u001b[?25hRequirement already satisfied: python-dateutil in /Users/sarthakshrivastava/opt/anaconda3/lib/python3.9/site-packages (from streamlit) (2.8.2)\n",
      "Collecting tzlocal>=1.1\n",
      "  Downloading tzlocal-4.2-py3-none-any.whl (19 kB)\n",
      "Requirement already satisfied: pillow>=6.2.0 in /Users/sarthakshrivastava/opt/anaconda3/lib/python3.9/site-packages (from streamlit) (9.2.0)\n",
      "Requirement already satisfied: pandas>=0.21.0 in /Users/sarthakshrivastava/opt/anaconda3/lib/python3.9/site-packages (from streamlit) (1.4.4)\n",
      "Requirement already satisfied: tornado>=5.0 in /Users/sarthakshrivastava/opt/anaconda3/lib/python3.9/site-packages (from streamlit) (6.1)\n",
      "Requirement already satisfied: toml in /Users/sarthakshrivastava/opt/anaconda3/lib/python3.9/site-packages (from streamlit) (0.10.2)\n",
      "Collecting validators>=0.2\n",
      "  Downloading validators-0.20.0.tar.gz (30 kB)\n",
      "  Preparing metadata (setup.py) ... \u001b[?25ldone\n",
      "\u001b[?25hCollecting protobuf<4,>=3.12\n",
      "  Downloading protobuf-3.20.3-cp39-cp39-macosx_10_9_x86_64.whl (982 kB)\n",
      "\u001b[2K     \u001b[90m━━━━━━━━━━━━━━━━━━━━━━━━━━━━━━━━━━━━━━━\u001b[0m \u001b[32m982.8/982.8 kB\u001b[0m \u001b[31m7.5 MB/s\u001b[0m eta \u001b[36m0:00:00\u001b[0m00:01\u001b[0m00:01\u001b[0m\n",
      "\u001b[?25hRequirement already satisfied: requests>=2.4 in /Users/sarthakshrivastava/opt/anaconda3/lib/python3.9/site-packages (from streamlit) (2.28.1)\n",
      "Requirement already satisfied: packaging>=14.1 in /Users/sarthakshrivastava/opt/anaconda3/lib/python3.9/site-packages (from streamlit) (21.3)\n",
      "Requirement already satisfied: jsonschema>=3.0 in /Users/sarthakshrivastava/opt/anaconda3/lib/python3.9/site-packages (from altair>=3.2.0->streamlit) (4.16.0)\n",
      "Requirement already satisfied: toolz in /Users/sarthakshrivastava/opt/anaconda3/lib/python3.9/site-packages (from altair>=3.2.0->streamlit) (0.11.2)\n",
      "Requirement already satisfied: entrypoints in /Users/sarthakshrivastava/opt/anaconda3/lib/python3.9/site-packages (from altair>=3.2.0->streamlit) (0.4)\n",
      "Requirement already satisfied: jinja2 in /Users/sarthakshrivastava/opt/anaconda3/lib/python3.9/site-packages (from altair>=3.2.0->streamlit) (2.11.3)\n",
      "Collecting gitdb<5,>=4.0.1\n",
      "  Downloading gitdb-4.0.9-py3-none-any.whl (63 kB)\n",
      "\u001b[2K     \u001b[90m━━━━━━━━━━━━━━━━━━━━━━━━━━━━━━━━━━━━━━━━\u001b[0m \u001b[32m63.1/63.1 kB\u001b[0m \u001b[31m2.3 MB/s\u001b[0m eta \u001b[36m0:00:00\u001b[0m\n",
      "\u001b[?25hRequirement already satisfied: zipp>=0.5 in /Users/sarthakshrivastava/opt/anaconda3/lib/python3.9/site-packages (from importlib-metadata>=1.4->streamlit) (3.8.0)\n",
      "Requirement already satisfied: pyparsing!=3.0.5,>=2.0.2 in /Users/sarthakshrivastava/opt/anaconda3/lib/python3.9/site-packages (from packaging>=14.1->streamlit) (3.0.9)\n",
      "Requirement already satisfied: pytz>=2020.1 in /Users/sarthakshrivastava/opt/anaconda3/lib/python3.9/site-packages (from pandas>=0.21.0->streamlit) (2022.1)\n",
      "Requirement already satisfied: six>=1.5 in /Users/sarthakshrivastava/opt/anaconda3/lib/python3.9/site-packages (from python-dateutil->streamlit) (1.16.0)\n",
      "Requirement already satisfied: idna<4,>=2.5 in /Users/sarthakshrivastava/opt/anaconda3/lib/python3.9/site-packages (from requests>=2.4->streamlit) (3.3)\n",
      "Requirement already satisfied: urllib3<1.27,>=1.21.1 in /Users/sarthakshrivastava/opt/anaconda3/lib/python3.9/site-packages (from requests>=2.4->streamlit) (1.26.11)\n",
      "Requirement already satisfied: charset-normalizer<3,>=2 in /Users/sarthakshrivastava/opt/anaconda3/lib/python3.9/site-packages (from requests>=2.4->streamlit) (2.0.4)\n",
      "Requirement already satisfied: certifi>=2017.4.17 in /Users/sarthakshrivastava/opt/anaconda3/lib/python3.9/site-packages (from requests>=2.4->streamlit) (2022.9.24)\n",
      "Requirement already satisfied: pygments<3.0.0,>=2.6.0 in /Users/sarthakshrivastava/opt/anaconda3/lib/python3.9/site-packages (from rich>=10.11.0->streamlit) (2.11.2)\n",
      "Collecting commonmark<0.10.0,>=0.9.0\n",
      "  Downloading commonmark-0.9.1-py2.py3-none-any.whl (51 kB)\n",
      "\u001b[2K     \u001b[90m━━━━━━━━━━━━━━━━━━━━━━━━━━━━━━━━━━━━━━━━\u001b[0m \u001b[32m51.1/51.1 kB\u001b[0m \u001b[31m1.9 MB/s\u001b[0m eta \u001b[36m0:00:00\u001b[0m\n",
      "\u001b[?25hCollecting pytz-deprecation-shim\n",
      "  Downloading pytz_deprecation_shim-0.1.0.post0-py2.py3-none-any.whl (15 kB)\n",
      "Requirement already satisfied: decorator>=3.4.0 in /Users/sarthakshrivastava/opt/anaconda3/lib/python3.9/site-packages (from validators>=0.2->streamlit) (5.1.1)\n",
      "Collecting smmap<6,>=3.0.1\n",
      "  Downloading smmap-5.0.0-py3-none-any.whl (24 kB)\n",
      "Requirement already satisfied: MarkupSafe>=0.23 in /Users/sarthakshrivastava/opt/anaconda3/lib/python3.9/site-packages (from jinja2->altair>=3.2.0->streamlit) (2.0.1)\n",
      "Requirement already satisfied: attrs>=17.4.0 in /Users/sarthakshrivastava/opt/anaconda3/lib/python3.9/site-packages (from jsonschema>=3.0->altair>=3.2.0->streamlit) (21.4.0)\n",
      "Requirement already satisfied: pyrsistent!=0.17.0,!=0.17.1,!=0.17.2,>=0.14.0 in /Users/sarthakshrivastava/opt/anaconda3/lib/python3.9/site-packages (from jsonschema>=3.0->altair>=3.2.0->streamlit) (0.18.0)\n",
      "Collecting tzdata\n",
      "  Downloading tzdata-2022.6-py2.py3-none-any.whl (338 kB)\n",
      "\u001b[2K     \u001b[90m━━━━━━━━━━━━━━━━━━━━━━━━━━━━━━━━━━━━━━━\u001b[0m \u001b[32m338.8/338.8 kB\u001b[0m \u001b[31m6.7 MB/s\u001b[0m eta \u001b[36m0:00:00\u001b[0m00:01\u001b[0m\n",
      "\u001b[?25hBuilding wheels for collected packages: validators\n",
      "  Building wheel for validators (setup.py) ... \u001b[?25ldone\n",
      "\u001b[?25h  Created wheel for validators: filename=validators-0.20.0-py3-none-any.whl size=19579 sha256=2804c8c5afe4d9c6836848f4fd502c708227d9dd352bd9ec0899f1cc9efa8b27\n",
      "  Stored in directory: /Users/sarthakshrivastava/Library/Caches/pip/wheels/2d/f0/a8/1094fca7a7e5d0d12ff56e0c64675d72aa5cc81a5fc200e849\n",
      "Successfully built validators\n",
      "Installing collected packages: commonmark, validators, tzdata, smmap, semver, rich, pympler, pyarrow, protobuf, cachetools, blinker, pytz-deprecation-shim, pydeck, gitdb, tzlocal, gitpython, altair, streamlit\n",
      "Successfully installed altair-4.2.0 blinker-1.5 cachetools-5.2.0 commonmark-0.9.1 gitdb-4.0.9 gitpython-3.1.29 protobuf-3.20.3 pyarrow-10.0.0 pydeck-0.8.0 pympler-1.0.1 pytz-deprecation-shim-0.1.0.post0 rich-12.6.0 semver-2.13.0 smmap-5.0.0 streamlit-1.15.1 tzdata-2022.6 tzlocal-4.2 validators-0.20.0\n"
     ]
    },
    {
     "name": "stdout",
     "output_type": "stream",
     "text": [
      "Note: you may need to restart the kernel to use updated packages.\n"
     ]
    }
   ],
   "source": [
    "pip install streamlit"
   ]
  },
  {
   "cell_type": "code",
   "execution_count": 5,
   "id": "98de39f4",
   "metadata": {},
   "outputs": [
    {
     "name": "stdout",
     "output_type": "stream",
     "text": [
      "Collecting streamlit-option-menu\n",
      "  Downloading streamlit_option_menu-0.3.2-py3-none-any.whl (712 kB)\n",
      "\u001b[2K     \u001b[90m━━━━━━━━━━━━━━━━━━━━━━━━━━━━━━━━━━━━━━━\u001b[0m \u001b[32m712.3/712.3 kB\u001b[0m \u001b[31m4.6 MB/s\u001b[0m eta \u001b[36m0:00:00\u001b[0m00:01\u001b[0m00:01\u001b[0m\n",
      "\u001b[?25hRequirement already satisfied: streamlit>=0.63 in /Users/sarthakshrivastava/opt/anaconda3/lib/python3.9/site-packages (from streamlit-option-menu) (1.15.1)\n",
      "Requirement already satisfied: gitpython!=3.1.19 in /Users/sarthakshrivastava/opt/anaconda3/lib/python3.9/site-packages (from streamlit>=0.63->streamlit-option-menu) (3.1.29)\n",
      "Requirement already satisfied: semver in /Users/sarthakshrivastava/opt/anaconda3/lib/python3.9/site-packages (from streamlit>=0.63->streamlit-option-menu) (2.13.0)\n",
      "Requirement already satisfied: cachetools>=4.0 in /Users/sarthakshrivastava/opt/anaconda3/lib/python3.9/site-packages (from streamlit>=0.63->streamlit-option-menu) (5.2.0)\n",
      "Requirement already satisfied: tornado>=5.0 in /Users/sarthakshrivastava/opt/anaconda3/lib/python3.9/site-packages (from streamlit>=0.63->streamlit-option-menu) (6.1)\n",
      "Requirement already satisfied: pillow>=6.2.0 in /Users/sarthakshrivastava/opt/anaconda3/lib/python3.9/site-packages (from streamlit>=0.63->streamlit-option-menu) (9.2.0)\n",
      "Requirement already satisfied: tzlocal>=1.1 in /Users/sarthakshrivastava/opt/anaconda3/lib/python3.9/site-packages (from streamlit>=0.63->streamlit-option-menu) (4.2)\n",
      "Requirement already satisfied: packaging>=14.1 in /Users/sarthakshrivastava/opt/anaconda3/lib/python3.9/site-packages (from streamlit>=0.63->streamlit-option-menu) (21.3)\n",
      "Requirement already satisfied: validators>=0.2 in /Users/sarthakshrivastava/opt/anaconda3/lib/python3.9/site-packages (from streamlit>=0.63->streamlit-option-menu) (0.20.0)\n",
      "Requirement already satisfied: altair>=3.2.0 in /Users/sarthakshrivastava/opt/anaconda3/lib/python3.9/site-packages (from streamlit>=0.63->streamlit-option-menu) (4.2.0)\n",
      "Requirement already satisfied: protobuf<4,>=3.12 in /Users/sarthakshrivastava/opt/anaconda3/lib/python3.9/site-packages (from streamlit>=0.63->streamlit-option-menu) (3.20.3)\n",
      "Requirement already satisfied: requests>=2.4 in /Users/sarthakshrivastava/opt/anaconda3/lib/python3.9/site-packages (from streamlit>=0.63->streamlit-option-menu) (2.28.1)\n",
      "Requirement already satisfied: rich>=10.11.0 in /Users/sarthakshrivastava/opt/anaconda3/lib/python3.9/site-packages (from streamlit>=0.63->streamlit-option-menu) (12.6.0)\n",
      "Requirement already satisfied: pydeck>=0.1.dev5 in /Users/sarthakshrivastava/opt/anaconda3/lib/python3.9/site-packages (from streamlit>=0.63->streamlit-option-menu) (0.8.0)\n",
      "Requirement already satisfied: pyarrow>=4.0 in /Users/sarthakshrivastava/opt/anaconda3/lib/python3.9/site-packages (from streamlit>=0.63->streamlit-option-menu) (10.0.0)\n",
      "Requirement already satisfied: numpy in /Users/sarthakshrivastava/opt/anaconda3/lib/python3.9/site-packages (from streamlit>=0.63->streamlit-option-menu) (1.21.5)\n",
      "Requirement already satisfied: blinker>=1.0.0 in /Users/sarthakshrivastava/opt/anaconda3/lib/python3.9/site-packages (from streamlit>=0.63->streamlit-option-menu) (1.5)\n",
      "Requirement already satisfied: python-dateutil in /Users/sarthakshrivastava/opt/anaconda3/lib/python3.9/site-packages (from streamlit>=0.63->streamlit-option-menu) (2.8.2)\n",
      "Requirement already satisfied: typing-extensions>=3.10.0.0 in /Users/sarthakshrivastava/opt/anaconda3/lib/python3.9/site-packages (from streamlit>=0.63->streamlit-option-menu) (4.3.0)\n",
      "Requirement already satisfied: pandas>=0.21.0 in /Users/sarthakshrivastava/opt/anaconda3/lib/python3.9/site-packages (from streamlit>=0.63->streamlit-option-menu) (1.4.4)\n",
      "Requirement already satisfied: toml in /Users/sarthakshrivastava/opt/anaconda3/lib/python3.9/site-packages (from streamlit>=0.63->streamlit-option-menu) (0.10.2)\n",
      "Requirement already satisfied: pympler>=0.9 in /Users/sarthakshrivastava/opt/anaconda3/lib/python3.9/site-packages (from streamlit>=0.63->streamlit-option-menu) (1.0.1)\n",
      "Requirement already satisfied: importlib-metadata>=1.4 in /Users/sarthakshrivastava/opt/anaconda3/lib/python3.9/site-packages (from streamlit>=0.63->streamlit-option-menu) (4.11.3)\n",
      "Requirement already satisfied: click>=7.0 in /Users/sarthakshrivastava/opt/anaconda3/lib/python3.9/site-packages (from streamlit>=0.63->streamlit-option-menu) (8.0.4)\n",
      "Requirement already satisfied: jinja2 in /Users/sarthakshrivastava/opt/anaconda3/lib/python3.9/site-packages (from altair>=3.2.0->streamlit>=0.63->streamlit-option-menu) (2.11.3)\n",
      "Requirement already satisfied: jsonschema>=3.0 in /Users/sarthakshrivastava/opt/anaconda3/lib/python3.9/site-packages (from altair>=3.2.0->streamlit>=0.63->streamlit-option-menu) (4.16.0)\n",
      "Requirement already satisfied: entrypoints in /Users/sarthakshrivastava/opt/anaconda3/lib/python3.9/site-packages (from altair>=3.2.0->streamlit>=0.63->streamlit-option-menu) (0.4)\n",
      "Requirement already satisfied: toolz in /Users/sarthakshrivastava/opt/anaconda3/lib/python3.9/site-packages (from altair>=3.2.0->streamlit>=0.63->streamlit-option-menu) (0.11.2)\n",
      "Requirement already satisfied: gitdb<5,>=4.0.1 in /Users/sarthakshrivastava/opt/anaconda3/lib/python3.9/site-packages (from gitpython!=3.1.19->streamlit>=0.63->streamlit-option-menu) (4.0.9)\n",
      "Requirement already satisfied: zipp>=0.5 in /Users/sarthakshrivastava/opt/anaconda3/lib/python3.9/site-packages (from importlib-metadata>=1.4->streamlit>=0.63->streamlit-option-menu) (3.8.0)\n",
      "Requirement already satisfied: pyparsing!=3.0.5,>=2.0.2 in /Users/sarthakshrivastava/opt/anaconda3/lib/python3.9/site-packages (from packaging>=14.1->streamlit>=0.63->streamlit-option-menu) (3.0.9)\n",
      "Requirement already satisfied: pytz>=2020.1 in /Users/sarthakshrivastava/opt/anaconda3/lib/python3.9/site-packages (from pandas>=0.21.0->streamlit>=0.63->streamlit-option-menu) (2022.1)\n",
      "Requirement already satisfied: six>=1.5 in /Users/sarthakshrivastava/opt/anaconda3/lib/python3.9/site-packages (from python-dateutil->streamlit>=0.63->streamlit-option-menu) (1.16.0)\n",
      "Requirement already satisfied: urllib3<1.27,>=1.21.1 in /Users/sarthakshrivastava/opt/anaconda3/lib/python3.9/site-packages (from requests>=2.4->streamlit>=0.63->streamlit-option-menu) (1.26.11)\n",
      "Requirement already satisfied: certifi>=2017.4.17 in /Users/sarthakshrivastava/opt/anaconda3/lib/python3.9/site-packages (from requests>=2.4->streamlit>=0.63->streamlit-option-menu) (2022.9.24)\n",
      "Requirement already satisfied: idna<4,>=2.5 in /Users/sarthakshrivastava/opt/anaconda3/lib/python3.9/site-packages (from requests>=2.4->streamlit>=0.63->streamlit-option-menu) (3.3)\n",
      "Requirement already satisfied: charset-normalizer<3,>=2 in /Users/sarthakshrivastava/opt/anaconda3/lib/python3.9/site-packages (from requests>=2.4->streamlit>=0.63->streamlit-option-menu) (2.0.4)\n",
      "Requirement already satisfied: pygments<3.0.0,>=2.6.0 in /Users/sarthakshrivastava/opt/anaconda3/lib/python3.9/site-packages (from rich>=10.11.0->streamlit>=0.63->streamlit-option-menu) (2.11.2)\n",
      "Requirement already satisfied: commonmark<0.10.0,>=0.9.0 in /Users/sarthakshrivastava/opt/anaconda3/lib/python3.9/site-packages (from rich>=10.11.0->streamlit>=0.63->streamlit-option-menu) (0.9.1)\n",
      "Requirement already satisfied: pytz-deprecation-shim in /Users/sarthakshrivastava/opt/anaconda3/lib/python3.9/site-packages (from tzlocal>=1.1->streamlit>=0.63->streamlit-option-menu) (0.1.0.post0)\n",
      "Requirement already satisfied: decorator>=3.4.0 in /Users/sarthakshrivastava/opt/anaconda3/lib/python3.9/site-packages (from validators>=0.2->streamlit>=0.63->streamlit-option-menu) (5.1.1)\n",
      "Requirement already satisfied: smmap<6,>=3.0.1 in /Users/sarthakshrivastava/opt/anaconda3/lib/python3.9/site-packages (from gitdb<5,>=4.0.1->gitpython!=3.1.19->streamlit>=0.63->streamlit-option-menu) (5.0.0)\n",
      "Requirement already satisfied: MarkupSafe>=0.23 in /Users/sarthakshrivastava/opt/anaconda3/lib/python3.9/site-packages (from jinja2->altair>=3.2.0->streamlit>=0.63->streamlit-option-menu) (2.0.1)\n",
      "Requirement already satisfied: pyrsistent!=0.17.0,!=0.17.1,!=0.17.2,>=0.14.0 in /Users/sarthakshrivastava/opt/anaconda3/lib/python3.9/site-packages (from jsonschema>=3.0->altair>=3.2.0->streamlit>=0.63->streamlit-option-menu) (0.18.0)\n",
      "Requirement already satisfied: attrs>=17.4.0 in /Users/sarthakshrivastava/opt/anaconda3/lib/python3.9/site-packages (from jsonschema>=3.0->altair>=3.2.0->streamlit>=0.63->streamlit-option-menu) (21.4.0)\n"
     ]
    },
    {
     "name": "stdout",
     "output_type": "stream",
     "text": [
      "Requirement already satisfied: tzdata in /Users/sarthakshrivastava/opt/anaconda3/lib/python3.9/site-packages (from pytz-deprecation-shim->tzlocal>=1.1->streamlit>=0.63->streamlit-option-menu) (2022.6)\n",
      "Installing collected packages: streamlit-option-menu\n",
      "Successfully installed streamlit-option-menu-0.3.2\n",
      "Note: you may need to restart the kernel to use updated packages.\n"
     ]
    }
   ],
   "source": [
    "pip install streamlit-option-menu"
   ]
  },
  {
   "cell_type": "code",
   "execution_count": 6,
   "id": "7d337e8c",
   "metadata": {},
   "outputs": [
    {
     "name": "stderr",
     "output_type": "stream",
     "text": [
      "2022-11-22 20:44:51.444 \n",
      "  \u001b[33m\u001b[1mWarning:\u001b[0m to view this Streamlit app on a browser, run it with the following\n",
      "  command:\n",
      "\n",
      "    streamlit run /Users/sarthakshrivastava/opt/anaconda3/lib/python3.9/site-packages/ipykernel_launcher.py [ARGUMENTS]\n"
     ]
    }
   ],
   "source": []
  },
  {
   "cell_type": "code",
   "execution_count": null,
   "id": "7d3dd94b",
   "metadata": {},
   "outputs": [],
   "source": []
  }
 ],
 "metadata": {
  "kernelspec": {
   "display_name": "Python 3 (ipykernel)",
   "language": "python",
   "name": "python3"
  },
  "language_info": {
   "codemirror_mode": {
    "name": "ipython",
    "version": 3
   },
   "file_extension": ".py",
   "mimetype": "text/x-python",
   "name": "python",
   "nbconvert_exporter": "python",
   "pygments_lexer": "ipython3",
   "version": "3.9.13"
  }
 },
 "nbformat": 4,
 "nbformat_minor": 5
}
